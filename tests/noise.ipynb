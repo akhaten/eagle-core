{
 "cells": [
  {
   "cell_type": "code",
   "execution_count": 4,
   "metadata": {},
   "outputs": [],
   "source": [
    "import sys\n",
    "sys.path.append('..')"
   ]
  },
  {
   "cell_type": "code",
   "execution_count": 5,
   "metadata": {},
   "outputs": [],
   "source": [
    "import eaglecore.noise\n",
    "import eaglecore.signal.measure\n",
    "import eaglecore.types\n",
    "\n",
    "import numpy\n",
    "import numpy.random"
   ]
  },
  {
   "cell_type": "code",
   "execution_count": 6,
   "metadata": {},
   "outputs": [
    {
     "data": {
      "text/plain": [
       "array([[0.7808876 , 0.91799913, 0.62146099, 0.64086173, 0.95688646],\n",
       "       [0.67803657, 0.15677161, 0.68539446, 0.85831455, 0.75675272],\n",
       "       [0.05043213, 0.05132118, 0.39303157, 0.28621015, 0.07651537],\n",
       "       [0.7715196 , 0.3265488 , 0.13663019, 0.83345783, 0.1441439 ],\n",
       "       [0.17238971, 0.59693305, 0.48480554, 0.99149056, 0.03629968]])"
      ]
     },
     "execution_count": 6,
     "metadata": {},
     "output_type": "execute_result"
    }
   ],
   "source": [
    "signal = numpy.random.rand(5, 5)\n",
    "signal"
   ]
  },
  {
   "cell_type": "code",
   "execution_count": 7,
   "metadata": {},
   "outputs": [
    {
     "data": {
      "text/plain": [
       "0.34869450998447266"
      ]
     },
     "execution_count": 7,
     "metadata": {},
     "output_type": "execute_result"
    }
   ],
   "source": [
    "signal_power = eaglecore.signal.measure.power(signal=signal)\n",
    "signal_power"
   ]
  },
  {
   "cell_type": "code",
   "execution_count": 11,
   "metadata": {},
   "outputs": [
    {
     "data": {
      "text/plain": [
       "(0.011026688591472577,\n",
       " array([[-0.11649845,  0.02351269,  0.04725434,  0.00631706,  0.02393768],\n",
       "        [ 0.25470111, -0.05231725, -0.03644523, -0.12094549, -0.02483084],\n",
       "        [-0.15501774,  0.14379704,  0.03373987,  0.09341671, -0.30038726],\n",
       "        [ 0.0157942 , -0.09639514, -0.03905325, -0.1778222 ,  0.08680841],\n",
       "        [-0.09114304,  0.08199957,  0.05532108, -0.05150434, -0.09930671]]))"
      ]
     },
     "execution_count": 11,
     "metadata": {},
     "output_type": "execute_result"
    }
   ],
   "source": [
    "awgn_power, awgn = eaglecore.noise.get_awgn(\n",
    "    signal_power = signal_power,\n",
    "    snr = eaglecore.types.snr_db(30),\n",
    "    noise_shape = signal.shape\n",
    ")\n",
    "awgn_power, awgn"
   ]
  },
  {
   "cell_type": "code",
   "execution_count": 12,
   "metadata": {},
   "outputs": [
    {
     "data": {
      "text/plain": [
       "0.013071506486307363"
      ]
     },
     "execution_count": 12,
     "metadata": {},
     "output_type": "execute_result"
    }
   ],
   "source": [
    "eaglecore.signal.measure.power(signal=awgn)"
   ]
  },
  {
   "cell_type": "code",
   "execution_count": null,
   "metadata": {},
   "outputs": [],
   "source": []
  }
 ],
 "metadata": {
  "kernelspec": {
   "display_name": "Python 3",
   "language": "python",
   "name": "python3"
  },
  "language_info": {
   "codemirror_mode": {
    "name": "ipython",
    "version": 3
   },
   "file_extension": ".py",
   "mimetype": "text/x-python",
   "name": "python",
   "nbconvert_exporter": "python",
   "pygments_lexer": "ipython3",
   "version": "3.10.13"
  },
  "orig_nbformat": 4
 },
 "nbformat": 4,
 "nbformat_minor": 2
}
