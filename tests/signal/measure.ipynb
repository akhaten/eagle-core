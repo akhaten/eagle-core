{
 "cells": [
  {
   "cell_type": "code",
   "execution_count": 52,
   "metadata": {},
   "outputs": [],
   "source": [
    "import sys\n",
    "sys.path.append('../..')"
   ]
  },
  {
   "cell_type": "code",
   "execution_count": 53,
   "metadata": {},
   "outputs": [],
   "source": [
    "import numpy\n",
    "import numpy.random"
   ]
  },
  {
   "cell_type": "code",
   "execution_count": 54,
   "metadata": {},
   "outputs": [],
   "source": [
    "import eaglecore.signal.measure"
   ]
  },
  {
   "attachments": {},
   "cell_type": "markdown",
   "metadata": {},
   "source": [
    "## Energy and Power\n",
    "\n",
    "Let, \n",
    "- $s$ : a signal real (any dimension) composed of $N$ elements\n",
    "- $S$ : the Discrete Fourier Transform (DFT) of $s$\n",
    "\n",
    "We have :\n",
    "\n",
    "<div align=\"center\">\n",
    "\n",
    "|            | Spatial domain                       | Fourier domain                                 |\n",
    "| ---------- | ------------------------------------ | ---------------------------------------------- |\n",
    "| Energy $E$ | $\\sum\\limits_{k=0}^{N} s[k]^2$       | $\\frac{1}{N} \\sum\\limits_{k=0}^{N} \\|S[k]\\|^2$ |\n",
    "| Power  $P$ | $\\frac{1}{N} \\times E_{s}$           | $\\frac{1}{N} \\times E_{S}$                     |\n",
    "\n",
    "</div>\n",
    "\n",
    "Note than the notation |.| is the module."
   ]
  },
  {
   "attachments": {},
   "cell_type": "markdown",
   "metadata": {},
   "source": [
    "### Initialization of random signal"
   ]
  },
  {
   "cell_type": "code",
   "execution_count": 55,
   "metadata": {},
   "outputs": [],
   "source": [
    "s = 255*numpy.random.rand(512, 512)\n",
    "S = numpy.fft.fftn(s)"
   ]
  },
  {
   "attachments": {},
   "cell_type": "markdown",
   "metadata": {},
   "source": [
    "### In spatial domain"
   ]
  },
  {
   "attachments": {},
   "cell_type": "markdown",
   "metadata": {},
   "source": [
    "#### Energy\n",
    "\n",
    "\n",
    "$\\begin{align}\n",
    "E_{s} = \\sum\\limits_{k=0}^{N} s[k]^2\n",
    "\\end{align}$"
   ]
  },
  {
   "cell_type": "code",
   "execution_count": 56,
   "metadata": {},
   "outputs": [],
   "source": [
    "s_energy = eaglecore.signal.measure.energy(s)"
   ]
  },
  {
   "attachments": {},
   "cell_type": "markdown",
   "metadata": {},
   "source": [
    "#### Power\n",
    "\n",
    "$\\begin{align}\n",
    "P_{s} \n",
    "&= \\frac{1}{N} \\times E_{s} \\\\\n",
    "&= \\frac{1}{N} \\times \\sum\\limits_{k=0}^{N} s[k]^2\n",
    "\\end{align}$"
   ]
  },
  {
   "cell_type": "code",
   "execution_count": 57,
   "metadata": {},
   "outputs": [],
   "source": [
    "s_power = eaglecore.signal.measure.power(s)"
   ]
  },
  {
   "attachments": {},
   "cell_type": "markdown",
   "metadata": {},
   "source": [
    "### In Fourier domain"
   ]
  },
  {
   "attachments": {},
   "cell_type": "markdown",
   "metadata": {},
   "source": [
    "#### Energy\n",
    "\n",
    "$\\begin{align}\n",
    "E_{S} = \\frac{1}{N} \\sum\\limits_{k=0}^{N} |S[k]|^2\n",
    "\\end{align}$"
   ]
  },
  {
   "cell_type": "code",
   "execution_count": 58,
   "metadata": {},
   "outputs": [],
   "source": [
    "S_energy = eaglecore.signal.measure.energy(S)"
   ]
  },
  {
   "attachments": {},
   "cell_type": "markdown",
   "metadata": {},
   "source": [
    "#### Power\n",
    "\n",
    "$\\begin{align}\n",
    "P_{S} \n",
    "&= \\frac{1}{N} \\times E_{S} \\\\\n",
    "&= \\frac{1}{N} \\times \\frac{1}{N} \\sum\\limits_{k=0}^{N} |S[k]|^2 \\\\\n",
    "&= \\frac{1}{N^{2}} \\times \\sum\\limits_{k=0}^{N} |S[k]|^2\n",
    "\\end{align}$"
   ]
  },
  {
   "cell_type": "code",
   "execution_count": 59,
   "metadata": {},
   "outputs": [],
   "source": [
    "S_power = eaglecore.signal.measure.power(S)"
   ]
  },
  {
   "attachments": {},
   "cell_type": "markdown",
   "metadata": {},
   "source": [
    "### Comparison"
   ]
  },
  {
   "cell_type": "code",
   "execution_count": 60,
   "metadata": {},
   "outputs": [
    {
     "data": {
      "text/plain": [
       "9.5367431640625e-07"
      ]
     },
     "execution_count": 60,
     "metadata": {},
     "output_type": "execute_result"
    }
   ],
   "source": [
    "abs(s_energy - S_energy)"
   ]
  },
  {
   "cell_type": "code",
   "execution_count": 61,
   "metadata": {},
   "outputs": [
    {
     "data": {
      "text/plain": [
       "True"
      ]
     },
     "execution_count": 61,
     "metadata": {},
     "output_type": "execute_result"
    }
   ],
   "source": [
    "numpy.allclose(s_energy, S_energy)"
   ]
  },
  {
   "cell_type": "code",
   "execution_count": 62,
   "metadata": {},
   "outputs": [
    {
     "data": {
      "text/plain": [
       "3.637978807091713e-12"
      ]
     },
     "execution_count": 62,
     "metadata": {},
     "output_type": "execute_result"
    }
   ],
   "source": [
    "abs(s_power - S_power)"
   ]
  },
  {
   "cell_type": "code",
   "execution_count": 63,
   "metadata": {},
   "outputs": [
    {
     "data": {
      "text/plain": [
       "True"
      ]
     },
     "execution_count": 63,
     "metadata": {},
     "output_type": "execute_result"
    }
   ],
   "source": [
    "numpy.allclose(s_power, S_power)"
   ]
  }
 ],
 "metadata": {
  "kernelspec": {
   "display_name": "Python 3",
   "language": "python",
   "name": "python3"
  },
  "language_info": {
   "codemirror_mode": {
    "name": "ipython",
    "version": 3
   },
   "file_extension": ".py",
   "mimetype": "text/x-python",
   "name": "python",
   "nbconvert_exporter": "python",
   "pygments_lexer": "ipython3",
   "version": "3.10.13"
  },
  "orig_nbformat": 4
 },
 "nbformat": 4,
 "nbformat_minor": 2
}
