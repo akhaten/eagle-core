{
 "cells": [
  {
   "cell_type": "code",
   "execution_count": 1,
   "metadata": {},
   "outputs": [],
   "source": [
    "import scipy.signal\n",
    "import numpy\n",
    "import sys\n",
    "sys.path.append('..')"
   ]
  },
  {
   "cell_type": "code",
   "execution_count": 2,
   "metadata": {},
   "outputs": [],
   "source": [
    "import eaglecore.differential\n",
    "import eaglecore.utils\n",
    "# import lasp.filters.linear"
   ]
  },
  {
   "cell_type": "code",
   "execution_count": 3,
   "metadata": {},
   "outputs": [
    {
     "name": "stdout",
     "output_type": "stream",
     "text": [
      "[[ 0  1  2  3]\n",
      " [ 4  5  6  7]\n",
      " [ 8  9 10 11]\n",
      " [12 13 14 15]]\n",
      "[[120. +0.j  -8. +8.j  -8. +0.j  -8. -8.j]\n",
      " [-32.+32.j   0. +0.j   0. +0.j   0. +0.j]\n",
      " [-32. +0.j   0. +0.j   0. +0.j   0. +0.j]\n",
      " [-32.-32.j   0. +0.j   0. +0.j   0. +0.j]]\n"
     ]
    }
   ],
   "source": [
    "arr = numpy.reshape(numpy.arange(0, 16), (4, 4))\n",
    "arr_fft = numpy.fft.fftn(arr) # img in frequency domain\n",
    "print(arr)\n",
    "print(arr_fft)"
   ]
  },
  {
   "attachments": {},
   "cell_type": "markdown",
   "metadata": {},
   "source": [
    "## Circular boundary condition"
   ]
  },
  {
   "attachments": {},
   "cell_type": "markdown",
   "metadata": {},
   "source": [
    "### $\\nabla_{x}$"
   ]
  },
  {
   "cell_type": "code",
   "execution_count": 4,
   "metadata": {},
   "outputs": [
    {
     "name": "stdout",
     "output_type": "stream",
     "text": [
      "Kernel identity :\n",
      " [[0 0 0]\n",
      " [0 1 0]\n",
      " [0 0 0]]\n",
      "dx_oper :\n",
      " [[ 0  0  0]\n",
      " [ 0  1 -1]\n",
      " [ 0  0  0]]\n",
      "conv2d :\n",
      " [[-3  1  1  1]\n",
      " [-3  1  1  1]\n",
      " [-3  1  1  1]\n",
      " [-3  1  1  1]]\n",
      "BCCB :\n",
      " [[-3.  1.  1.  1.]\n",
      " [-3.  1.  1.  1.]\n",
      " [-3.  1.  1.  1.]\n",
      " [-3.  1.  1.  1.]]\n",
      "Direct :\n",
      " [[-3  1  1  1]\n",
      " [-3  1  1  1]\n",
      " [-3  1  1  1]\n",
      " [-3  1  1  1]]\n"
     ]
    }
   ],
   "source": [
    "kernel2d_id = numpy.pad(numpy.array([[1]]), pad_width=1)\n",
    "dx_oper = eaglecore.differential.difference_finite_circular(\n",
    "    array = kernel2d_id,\n",
    "    axis = 1\n",
    ")\n",
    "\n",
    "## With convolution (ie spatial domain)\n",
    "arr_dx_v1 = scipy.signal.convolve2d(\n",
    "    arr, \n",
    "    dx_oper, \n",
    "    mode='same',\n",
    "    boundary='circular'\n",
    ")\n",
    "\n",
    "## BCCB tricks\n",
    "dx_oper_diag = eaglecore.utils.fourier_diagonalization(dx_oper, arr.shape)\n",
    "arr_fft_dx_v2 = dx_oper_diag * arr_fft\n",
    "arr_dx_v2 = numpy.real(numpy.fft.ifft2(arr_fft_dx_v2))\n",
    "\n",
    "\n",
    "## With numpy\n",
    "arr_dx_v3 = eaglecore.differential.difference_finite_circular(\n",
    "    array = arr,\n",
    "    axis = 1\n",
    ")\n",
    "\n",
    "print('Kernel identity :\\n', kernel2d_id)\n",
    "print('dx_oper :\\n', dx_oper)\n",
    "\n",
    "print('conv2d :\\n', arr_dx_v1)\n",
    "print('BCCB :\\n', arr_dx_v2)\n",
    "print('Direct :\\n', arr_dx_v3)\n",
    "\n",
    "# print(eaglecore.differential.dx(arr))\n"
   ]
  },
  {
   "attachments": {},
   "cell_type": "markdown",
   "metadata": {},
   "source": [
    "### $\\nabla_{y}$"
   ]
  },
  {
   "cell_type": "code",
   "execution_count": 5,
   "metadata": {},
   "outputs": [
    {
     "name": "stdout",
     "output_type": "stream",
     "text": [
      "Kernel identity :\n",
      " [[0 0 0]\n",
      " [0 1 0]\n",
      " [0 0 0]]\n",
      "dy_oper :\n",
      " [[ 0  0  0]\n",
      " [ 0  1  0]\n",
      " [ 0 -1  0]]\n",
      "conv2d :\n",
      " [[-12 -12 -12 -12]\n",
      " [  4   4   4   4]\n",
      " [  4   4   4   4]\n",
      " [  4   4   4   4]]\n",
      "BCCB :\n",
      " [[-12. -12. -12. -12.]\n",
      " [  4.   4.   4.   4.]\n",
      " [  4.   4.   4.   4.]\n",
      " [  4.   4.   4.   4.]]\n",
      "Direct :\n",
      " [[-12 -12 -12 -12]\n",
      " [  4   4   4   4]\n",
      " [  4   4   4   4]\n",
      " [  4   4   4   4]]\n"
     ]
    }
   ],
   "source": [
    "kernel2d_id = numpy.pad(numpy.array([[1]]), pad_width=1)\n",
    "dy_oper = eaglecore.differential.difference_finite_circular(\n",
    "    array = kernel2d_id,\n",
    "    axis = 0\n",
    ")\n",
    "\n",
    "## With convolution (ie spatial domain)\n",
    "arr_dy_v1 = scipy.signal.convolve2d(\n",
    "    arr, \n",
    "    dy_oper, \n",
    "    mode='same',\n",
    "    boundary='circular'\n",
    ")\n",
    "\n",
    "## BCCB tricks\n",
    "dy_oper_diag = eaglecore.utils.fourier_diagonalization(dy_oper, arr.shape)\n",
    "arr_fft_dy_v2 = dy_oper_diag * arr_fft\n",
    "arr_dy_v2 = numpy.real(numpy.fft.ifft2(arr_fft_dy_v2))\n",
    "\n",
    "\n",
    "## With numpy\n",
    "arr_dy_v3 = eaglecore.differential.difference_finite_circular(\n",
    "    array = arr,\n",
    "    axis = 0\n",
    ")\n",
    "\n",
    "print('Kernel identity :\\n', kernel2d_id)\n",
    "print('dy_oper :\\n', dy_oper)\n",
    "\n",
    "print('conv2d :\\n', arr_dy_v1)\n",
    "print('BCCB :\\n', arr_dy_v2)\n",
    "print('Direct :\\n', arr_dy_v3)\n",
    "\n",
    "# print(eaglecore.differential.dy(arr))"
   ]
  },
  {
   "attachments": {},
   "cell_type": "markdown",
   "metadata": {},
   "source": [
    "### $\\nabla_{x}^{T}$"
   ]
  },
  {
   "cell_type": "code",
   "execution_count": 6,
   "metadata": {},
   "outputs": [
    {
     "name": "stdout",
     "output_type": "stream",
     "text": [
      "Kernel identity :\n",
      " [[0 0 0]\n",
      " [0 1 0]\n",
      " [0 0 0]]\n",
      "dxT_oper :\n",
      " [[ 0  0  0]\n",
      " [-1  1  0]\n",
      " [ 0  0  0]]\n",
      "conv2d :\n",
      " [[-1 -1 -1  3]\n",
      " [-1 -1 -1  3]\n",
      " [-1 -1 -1  3]\n",
      " [-1 -1 -1  3]]\n",
      "BCCB :\n",
      " [[-1. -1. -1.  3.]\n",
      " [-1. -1. -1.  3.]\n",
      " [-1. -1. -1.  3.]\n",
      " [-1. -1. -1.  3.]]\n",
      "Direct :\n",
      " [[-1 -1 -1  3]\n",
      " [-1 -1 -1  3]\n",
      " [-1 -1 -1  3]\n",
      " [-1 -1 -1  3]]\n"
     ]
    }
   ],
   "source": [
    "kernel2d_id = numpy.pad(numpy.array([[1]]), pad_width=1)\n",
    "\n",
    "dxT_oper = eaglecore.differential.transposed_difference_finite_circular(\n",
    "    array = kernel2d_id,\n",
    "    axis = 1\n",
    ")\n",
    "\n",
    "## With convolution (ie spatial domain)\n",
    "arr_dxT_v1 = scipy.signal.convolve2d(\n",
    "    arr, \n",
    "    dxT_oper, \n",
    "    mode='same',\n",
    "    boundary='circular'\n",
    ")\n",
    "\n",
    "## BCCB tricks\n",
    "dxT_oper_diag = eaglecore.utils.fourier_diagonalization(dxT_oper, arr.shape)\n",
    "arr_fft_dxT_v2 = dxT_oper_diag * arr_fft\n",
    "arr_dxT_v2 = numpy.real(numpy.fft.ifft2(arr_fft_dxT_v2))\n",
    "\n",
    "\n",
    "## With numpy\n",
    "arr_dxT_v3 = eaglecore.differential.transposed_difference_finite_circular(\n",
    "    array = arr,\n",
    "    axis = 1\n",
    ")\n",
    "\n",
    "print('Kernel identity :\\n', kernel2d_id)\n",
    "print('dxT_oper :\\n', dxT_oper)\n",
    "\n",
    "print('conv2d :\\n', arr_dxT_v1)\n",
    "print('BCCB :\\n', arr_dxT_v2)\n",
    "print('Direct :\\n', arr_dxT_v3)\n",
    "\n",
    "# print(eaglecore.differential.dxT(arr))\n"
   ]
  },
  {
   "attachments": {},
   "cell_type": "markdown",
   "metadata": {},
   "source": [
    "### $\\nabla_{y}^{T}$"
   ]
  },
  {
   "cell_type": "code",
   "execution_count": 7,
   "metadata": {},
   "outputs": [
    {
     "name": "stdout",
     "output_type": "stream",
     "text": [
      "Kernel identity :\n",
      " [[0 0 0]\n",
      " [0 1 0]\n",
      " [0 0 0]]\n",
      "dyT_oper :\n",
      " [[ 0 -1  0]\n",
      " [ 0  1  0]\n",
      " [ 0  0  0]]\n",
      "conv2d :\n",
      " [[-4 -4 -4 -4]\n",
      " [-4 -4 -4 -4]\n",
      " [-4 -4 -4 -4]\n",
      " [12 12 12 12]]\n",
      "BCCB :\n",
      " [[-4. -4. -4. -4.]\n",
      " [-4. -4. -4. -4.]\n",
      " [-4. -4. -4. -4.]\n",
      " [12. 12. 12. 12.]]\n",
      "Direct :\n",
      " [[-4 -4 -4 -4]\n",
      " [-4 -4 -4 -4]\n",
      " [-4 -4 -4 -4]\n",
      " [12 12 12 12]]\n"
     ]
    }
   ],
   "source": [
    "kernel2d_id = numpy.pad(numpy.array([[1]]), pad_width=1)\n",
    "\n",
    "dyT_oper = eaglecore.differential.transposed_difference_finite_circular(\n",
    "    array = kernel2d_id,\n",
    "    axis = 0\n",
    ")\n",
    "\n",
    "## With convolution (ie spatial domain)\n",
    "arr_dyT_v1 = scipy.signal.convolve2d(\n",
    "    arr, \n",
    "    dyT_oper, \n",
    "    mode='same',\n",
    "    boundary='circular'\n",
    ")\n",
    "\n",
    "## BCCB tricks\n",
    "dyT_oper_diag = eaglecore.utils.fourier_diagonalization(dyT_oper, arr.shape)\n",
    "arr_fft_dyT_v2 = dyT_oper_diag * arr_fft\n",
    "arr_dyT_v2 = numpy.real(numpy.fft.ifft2(arr_fft_dyT_v2))\n",
    "\n",
    "\n",
    "## With numpy\n",
    "arr_dyT_v3 = eaglecore.differential.transposed_difference_finite_circular(\n",
    "    array = arr,\n",
    "    axis = 0\n",
    ")\n",
    "\n",
    "print('Kernel identity :\\n', kernel2d_id)\n",
    "print('dyT_oper :\\n', dyT_oper)\n",
    "\n",
    "print('conv2d :\\n', arr_dyT_v1)\n",
    "print('BCCB :\\n', arr_dyT_v2)\n",
    "print('Direct :\\n', arr_dyT_v3)\n",
    "\n",
    "# print(eaglecore.differential.dyT(arr))"
   ]
  }
 ],
 "metadata": {
  "kernelspec": {
   "display_name": "Python 3.10.8 64-bit",
   "language": "python",
   "name": "python3"
  },
  "language_info": {
   "codemirror_mode": {
    "name": "ipython",
    "version": 3
   },
   "file_extension": ".py",
   "mimetype": "text/x-python",
   "name": "python",
   "nbconvert_exporter": "python",
   "pygments_lexer": "ipython3",
   "version": "3.10.13"
  },
  "orig_nbformat": 4,
  "vscode": {
   "interpreter": {
    "hash": "45713a178c5a966329bc5f3278f046d4b32f51be72879f469edfd7ae44ddee4d"
   }
  }
 },
 "nbformat": 4,
 "nbformat_minor": 2
}
